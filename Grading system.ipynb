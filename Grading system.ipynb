{
 "cells": [
  {
   "cell_type": "markdown",
   "id": "85f71a7c",
   "metadata": {},
   "source": [
    "# A grading system to calculate the grade of a student in a course."
   ]
  },
  {
   "cell_type": "code",
   "execution_count": 9,
   "id": "68e2bdbe",
   "metadata": {},
   "outputs": [
    {
     "name": "stdout",
     "output_type": "stream",
     "text": [
      "INPUT SCORE(0-100)\n",
      "101\n",
      "Your Grade For STATISTICS Is: Invalid Mark,Input MArk Betwwen 0 - 100\n"
     ]
    }
   ],
   "source": [
    "#Grading system for AD University\n",
    "\n",
    "Mark = float(input(\"INPUT SCORE(0-100)\\n\"))\n",
    "if Mark>100:\n",
    "  Grade = \"Invalid Mark,Input Mark Betwwen 0 - 100\"\n",
    "elif Mark>=70:\n",
    "  Grade = \"A\"\n",
    "elif Mark>=60:\n",
    "  Grade = \"B\"\n",
    "elif Mark>=50:\n",
    "  Grade = \"C\"\n",
    "elif Mark>=40:\n",
    "  Grade = \"D\"\n",
    "elif Mark<=39.9:\n",
    "  Grade = \"CARRY OVER\"\n",
    "\n",
    "print(\"Your Grade For STATISTICS Is: \" + Grade)"
   ]
  }
 ],
 "metadata": {
  "kernelspec": {
   "display_name": "Python 3",
   "language": "python",
   "name": "python3"
  },
  "language_info": {
   "codemirror_mode": {
    "name": "ipython",
    "version": 3
   },
   "file_extension": ".py",
   "mimetype": "text/x-python",
   "name": "python",
   "nbconvert_exporter": "python",
   "pygments_lexer": "ipython3",
   "version": "3.8.8"
  }
 },
 "nbformat": 4,
 "nbformat_minor": 5
}
